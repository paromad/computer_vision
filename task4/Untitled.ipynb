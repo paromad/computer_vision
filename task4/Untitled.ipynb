{
 "cells": [
  {
   "cell_type": "code",
   "execution_count": 1,
   "id": "e04a8d64",
   "metadata": {},
   "outputs": [],
   "source": [
    "import cv2\n",
    "import numpy as np\n",
    "from skimage.util import random_noise\n",
    "from tqdm.notebook import tqdm\n",
    "from skimage.transform import rotate\n",
    "import os"
   ]
  },
  {
   "cell_type": "code",
   "execution_count": 3,
   "id": "cba8b0d0",
   "metadata": {},
   "outputs": [],
   "source": [
    "def make_paper(image, num):\n",
    "    paper = cv2.imread(\"paper_textures/\" + str(num) + \".webp\")\n",
    "    paper = cv2.resize(paper, (image.shape[1], image.shape[0]))\n",
    "    \n",
    "    mask = (image[:, :, 0] == 255) * (image[:, :, 1] == 255) * (image[:, :, 2] == 255)\n",
    "    mask = np.stack([mask, mask, mask]).transpose((1, 2, 0))\n",
    "\n",
    "    return paper * mask + image * (1 - mask)\n",
    "\n",
    "def make_background(image, num):\n",
    "    background = cv2.imread(\"surface_textures/\" + str(num) + \".jpeg\")\n",
    "    \n",
    "    image_long_side = np.random.randint(background.shape[0] * 0.2, background.shape[0] * 0.5)\n",
    "    image = cv2.resize(image, (int(image.shape[1] / image.shape[0] * image_long_side), image_long_side))\n",
    "    \n",
    "    h_pad = np.random.randint(0, background.shape[0] - image.shape[0])\n",
    "    w_pad = np.random.randint(0, background.shape[1] - image.shape[1])\n",
    "    image = np.pad(image, ((h_pad, background.shape[0] - image.shape[0] - h_pad), \n",
    "                           (w_pad, background.shape[1] - image.shape[1] - w_pad), \n",
    "                           (0, 0)))\n",
    "    image = image * 255\n",
    "    \n",
    "    mask = (image[:, :, 0] == 0) * (image[:, :, 1] == 0) * (image[:, :, 2] == 0)\n",
    "    mask = np.stack([mask, mask, mask]).transpose((1, 2, 0))\n",
    "\n",
    "    return background * mask + image * (1 - mask)"
   ]
  },
  {
   "cell_type": "code",
   "execution_count": 5,
   "id": "36ebb426",
   "metadata": {},
   "outputs": [],
   "source": [
    "def print_defect(img):\n",
    "    shifted_rows = np.random.binomial(1, 0.01, img.shape[0])\n",
    "    for i in range(img.shape[0]):\n",
    "        if shifted_rows[i] == 1:\n",
    "            shift = np.random.randint(-25, 25)\n",
    "            new_row = np.zeros_like(img[i])\n",
    "            if shift > 0:\n",
    "                new_row[shift:] = img[i][:-shift]\n",
    "            elif shift < 0:\n",
    "                new_row[:shift] = img[i][-shift:]\n",
    "            else:\n",
    "                new_row = img[i]\n",
    "            img[i] = new_row\n",
    "    return img\n",
    "\n",
    "def blur(img, shape = 5):\n",
    "    kern = np.random.randint(1, shape)\n",
    "    return cv2.blur(img, (kern, kern))"
   ]
  },
  {
   "cell_type": "code",
   "execution_count": 114,
   "id": "e68f9a8d",
   "metadata": {},
   "outputs": [],
   "source": [
    "def aug(image, num):\n",
    "    image = make_paper(image, 11 if num == 9 else num % 5 + 11) / 255\n",
    "    image = rotate(image, np.random.uniform(0, 360), resize=True)\n",
    "    image = print_defect(image)\n",
    "    image = make_background(image, num + 1)\n",
    "    image = blur(image)\n",
    "    return image"
   ]
  },
  {
   "cell_type": "code",
   "execution_count": 124,
   "id": "5cefe8f5",
   "metadata": {},
   "outputs": [
    {
     "data": {
      "application/vnd.jupyter.widget-view+json": {
       "model_id": "0264ef2cb57f40c880ad6594a6afa8d8",
       "version_major": 2,
       "version_minor": 0
      },
      "text/plain": [
       "  0%|          | 0/10 [00:00<?, ?it/s]"
      ]
     },
     "metadata": {},
     "output_type": "display_data"
    }
   ],
   "source": [
    "for file in tqdm(os.listdir('images//')):\n",
    "    image = cv2.imread('images/' + file)\n",
    "    for i in range(10):\n",
    "        cv2.imwrite('res/' + file[:-4]+ '_' + str(i) + '.png', aug(image, i))"
   ]
  },
  {
   "cell_type": "code",
   "execution_count": null,
   "id": "50d9c40f",
   "metadata": {},
   "outputs": [],
   "source": []
  }
 ],
 "metadata": {
  "kernelspec": {
   "display_name": "Python 3 (ipykernel)",
   "language": "python",
   "name": "python3"
  },
  "language_info": {
   "codemirror_mode": {
    "name": "ipython",
    "version": 3
   },
   "file_extension": ".py",
   "mimetype": "text/x-python",
   "name": "python",
   "nbconvert_exporter": "python",
   "pygments_lexer": "ipython3",
   "version": "3.9.13"
  }
 },
 "nbformat": 4,
 "nbformat_minor": 5
}
