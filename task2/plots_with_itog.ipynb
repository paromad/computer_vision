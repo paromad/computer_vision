{
 "cells": [
  {
   "cell_type": "code",
   "execution_count": 1,
   "id": "d1b409a1",
   "metadata": {},
   "outputs": [],
   "source": [
    "import numpy as np\n",
    "import matplotlib.pyplot as plt\n",
    "import time\n",
    "from PIL import Image\n",
    "import cv2\n",
    "from collections import defaultdict\n",
    "from tqdm import tqdm"
   ]
  },
  {
   "cell_type": "code",
   "execution_count": 27,
   "id": "b39b238d",
   "metadata": {},
   "outputs": [],
   "source": [
    "def median(image, x, y, R = 1):\n",
    "    res = []\n",
    "    for c in range(image.shape[2]):\n",
    "        arr = []\n",
    "        for i in range(2 * R + 1):\n",
    "            cell_x = x - R + i\n",
    "            for j in range(2 * R + 1):\n",
    "                cell_y = y - R + j\n",
    "                if cell_x < 0 or cell_x >= image.shape[0] or cell_y < 0 or cell_y >= image.shape[1]:\n",
    "                    arr.append(0)\n",
    "                else:\n",
    "                    arr.append(image[cell_x][cell_y][c])\n",
    "\n",
    "        arr = sorted(arr)\n",
    "        res.append(arr[len(arr) // 2])\n",
    "\n",
    "    return res\n",
    "\n",
    "\n",
    "def simple_sort(image, R = 1):\n",
    "    res_image = np.zeros(image.shape)\n",
    "    for x in range(image.shape[0]):\n",
    "        for y in range(image.shape[1]):\n",
    "            res_image[x][y] = median(image, x, y, R)\n",
    "\n",
    "    return res_image\n",
    "\n",
    "\n",
    "def huang(image, R = 1):\n",
    "    res_image = np.zeros(image.shape)\n",
    "\n",
    "    pad_image = np.concatenate((image[:R, :], image))\n",
    "    pad_image = np.concatenate((pad_image, pad_image[-R:, :]))\n",
    "    pad_image = np.concatenate((pad_image[:, :R], pad_image), axis=1)\n",
    "    pad_image = np.concatenate((pad_image, pad_image[:, -R:]), axis=1)\n",
    "\n",
    "    for c in range(image.shape[2]):\n",
    "        for x in range(image.shape[0]):\n",
    "            w = pad_image[x: x + 2 * R + 1, :R * 2 + 1, c].reshape(-1)\n",
    "            counts = np.zeros(256)\n",
    "            counts[:len(np.bincount(w))] += np.bincount(w)\n",
    "            res_image[x, 0, c] = np.where(np.cumsum(counts) > len(w) // 2)[0][0]\n",
    "\n",
    "            for y in range(1, image.shape[1]):\n",
    "                p = pad_image[x: x + 2 * R + 1, y - 1, c]\n",
    "                counts[:len(np.bincount(p))] -= np.bincount(p)\n",
    "                p = pad_image[x: x + 2 * R + 1, y + 2 * R, c]\n",
    "                counts[:len(np.bincount(p))] += np.bincount(p)\n",
    "                res_image[x, y, c] = np.where(np.cumsum(counts) > len(w) // 2)[0][0]\n",
    "\n",
    "    return res_image\n",
    "\n",
    "\n",
    "def const_time(image, R = 1):\n",
    "    res_image = np.zeros(image.shape)\n",
    "    \n",
    "    pad_image = np.concatenate((image[:R, :], image))\n",
    "    pad_image = np.concatenate((pad_image, pad_image[-R:, :]))\n",
    "    pad_image = np.concatenate((pad_image[:, :R], pad_image), axis=1)\n",
    "    pad_image = np.concatenate((pad_image, pad_image[:, -R:]), axis=1)\n",
    "\n",
    "    for c in range(image.shape[2]):\n",
    "        column_histograms = np.array([np.bincount(pad_image[:2 * R, i, c], minlength=256) for i in range(pad_image.shape[1])])\n",
    "\n",
    "        for x in range(res_image.shape[0]):\n",
    "            w = pad_image[x: x + 2 * R + 1, : 2 * R + 1, c].reshape(-1)\n",
    "            counts = np.zeros(256, dtype=int)\n",
    "            counts[:len(np.bincount(w))] += np.bincount(w)\n",
    "            res_image[x, 0, c] = np.where(np.cumsum(counts) > len(w) // 2)[0][0]\n",
    "\n",
    "            for y in range(res_image.shape[1] + 2 * R):\n",
    "                if x > 0:\n",
    "                    column_histograms[y, pad_image[x - 1, y, c]] -= 1\n",
    "                column_histograms[y, pad_image[x + 2 * R, y, c]] += 1\n",
    "\n",
    "                if y >= 2 * R + 1:\n",
    "                    counts -= column_histograms[y - 2 * R - 1]\n",
    "                    counts += column_histograms[y]\n",
    "                    res_image[x, y - 2 * R, c] = np.where(np.cumsum(counts) > len(w) // 2)[0][0]\n",
    "\n",
    "    return res_image"
   ]
  },
  {
   "cell_type": "code",
   "execution_count": 14,
   "id": "35d32db3",
   "metadata": {},
   "outputs": [],
   "source": [
    "def median_filter(name, R):\n",
    "    image = plt.imread('picture.bmp')\n",
    "    start_time = time.time()\n",
    "\n",
    "    if name == \"simple\":\n",
    "        itog = simple_sort(image, R)\n",
    "    elif name == \"huang\":\n",
    "        itpg = huang(image, R)\n",
    "    elif name == \"const_time\":\n",
    "        itog = const_time(image, R)\n",
    "    elif name == \"cv\":\n",
    "        image = cv2.imread('picture.jpeg')\n",
    "        itog = cv2.medianBlur(image, 2 * R + 1)\n",
    "    else:\n",
    "        return -1\n",
    "    \n",
    "    time_work = time.time() - start_time\n",
    "    return time_work"
   ]
  },
  {
   "cell_type": "code",
   "execution_count": 23,
   "id": "37fe7552",
   "metadata": {},
   "outputs": [
    {
     "name": "stderr",
     "output_type": "stream",
     "text": [
      "100%|████████████████████████████████████████████████████████████████████████████████████| 9/9 [08:06<00:00, 54.01s/it]\n"
     ]
    }
   ],
   "source": [
    "arr = defaultdict(list)\n",
    "for R in tqdm([1, 2, 3, 5, 10, 25, 50, 75, 100]):\n",
    "    for name in [\"simple\", \"huang\", \"const_time\", \"cv\"]:\n",
    "        if R >= 10 and name == \"simple\":\n",
    "            continue\n",
    "        arr[name].append(median_filter(name, R))"
   ]
  },
  {
   "cell_type": "code",
   "execution_count": 24,
   "id": "ec9d065c",
   "metadata": {},
   "outputs": [],
   "source": [
    "image = plt.imread('picture.bmp')\n",
    "megapixel_count = image.shape[0] * image.shape[1] / 1000000\n",
    "\n",
    "for key in arr:\n",
    "    arr[key] = np.array(arr[key]) * 1000 / megapixel_count"
   ]
  },
  {
   "cell_type": "code",
   "execution_count": 29,
   "id": "a5dbb69a",
   "metadata": {
    "scrolled": false
   },
   "outputs": [
    {
     "data": {
      "image/png": "[encoded data removed]",
      "text/plain": [
       "<Figure size 640x480 with 1 Axes>"
      ]
     },
     "metadata": {},
     "output_type": "display_data"
    }
   ],
   "source": [
    "x = np.array([1, 2, 3, 5, 10, 25, 50, 75, 100])\n",
    "\n",
    "plt.plot([1, 2, 3, 5], arr[\"simple\"], label=\"simple\")\n",
    "plt.plot(x, arr[\"huang\"], label=\"huang\")\n",
    "plt.plot(x, arr[\"const_time\"], label=\"const_time\")\n",
    "plt.plot(x, arr[\"cv\"], label=\"opencv\")\n",
    "plt.xlabel(\"R\")\n",
    "plt.ylabel(\"Msec/mpixel\")\n",
    "plt.grid()\n",
    "plt.legend()\n",
    "plt.show()"
   ]
  },
  {
   "cell_type": "markdown",
   "id": "4ebaa883",
   "metadata": {},
   "source": [
    "SIMPLE: O(R * log(R)), O(R^2) памяти  \n",
    "HUANG: O(R + N), N - число уровней квантования, O(N) памяти  \n",
    "CONST_TIME: O(N), N - число уровней квантования, O(A * N) памяти  \n",
    "При R=1 имеет смысл использовать простую реализацию, а дальше только за констаетное время. Скорее всего при разных оптимизациях и реализациях получили бы разные данные "
   ]
  },
  {
   "cell_type": "code",
   "execution_count": null,
   "id": "84cf1842",
   "metadata": {},
   "outputs": [],
   "source": []
  }
 ],
 "metadata": {
  "kernelspec": {
   "display_name": "Python 3 (ipykernel)",
   "language": "python",
   "name": "python3"
  },
  "language_info": {
   "codemirror_mode": {
    "name": "ipython",
    "version": 3
   },
   "file_extension": ".py",
   "mimetype": "text/x-python",
   "name": "python",
   "nbconvert_exporter": "python",
   "pygments_lexer": "ipython3",
   "version": "3.9.13"
  }
 },
 "nbformat": 4,
 "nbformat_minor": 5
}
